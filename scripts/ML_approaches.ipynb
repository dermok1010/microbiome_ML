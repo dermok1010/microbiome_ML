{
 "cells": [
  {
   "cell_type": "code",
   "execution_count": 7,
   "id": "c2886a17-9cec-47b5-b3f4-e9a205dc46c0",
   "metadata": {},
   "outputs": [],
   "source": [
    "import pandas as pd\n",
    "import numpy as np\n",
    "from sklearn.model_selection import train_test_split\n",
    "from sklearn.preprocessing import StandardScaler"
   ]
  },
  {
   "cell_type": "code",
   "execution_count": 14,
   "id": "0bbad78b-ad85-46f3-8988-560eef7752b9",
   "metadata": {},
   "outputs": [
    {
     "data": {
      "text/plain": [
       "360"
      ]
     },
     "execution_count": 14,
     "metadata": {},
     "output_type": "execute_result"
    }
   ],
   "source": [
    "import pandas as pd\n",
    "\n",
    "base_dir = \"/home/dermot.kelly/Dermot_analysis/Phd/Paper_2/microbiome_ml/\"\n",
    "\n",
    "# abundance table\n",
    "data = pd.read_csv(f\"{base_dir}data/growings_microbiome.csv\", sep=\",\", header=0)\n",
    "\n",
    "len(data)"
   ]
  },
  {
   "cell_type": "code",
   "execution_count": 16,
   "id": "521e3973-97e0-4f0d-a593-cfcc32890b98",
   "metadata": {},
   "outputs": [
    {
     "name": "stdout",
     "output_type": "stream",
     "text": [
      "X-train shape: (254, 158), X-test shape: (64, 158)\n"
     ]
    }
   ],
   "source": [
    "target = \"ch4_g_day2_1v3\"\n",
    "\n",
    "# first column = sample_id, next 158 columns = microbiome (log-transformed)\n",
    "micro_cols = data.columns[1 : 1+158]\n",
    "\n",
    "model_df = data.dropna(subset=[target]).copy()  # drop rows where y is NaN\n",
    "\n",
    "X = model_df[micro_cols]\n",
    "y = model_df[target]\n",
    "\n",
    "# ------------------------------------------------------------------\n",
    "# 3.  Train/test split\n",
    "# ------------------------------------------------------------------\n",
    "X_train, X_test, y_train, y_test = train_test_split(\n",
    "    X, y, test_size=0.20, random_state=42\n",
    ")\n",
    "\n",
    "# ------------------------------------------------------------------\n",
    "# 4.  Standardize (fit on training, apply to test)\n",
    "# ------------------------------------------------------------------\n",
    "scaler = StandardScaler()\n",
    "X_train_scaled = scaler.fit_transform(X_train)\n",
    "X_test_scaled  = scaler.transform(X_test)\n",
    "\n",
    "print(f\"X-train shape: {X_train_scaled.shape}, X-test shape: {X_test_scaled.shape}\")"
   ]
  },
  {
   "cell_type": "code",
   "execution_count": 18,
   "id": "a607349c-bfcd-48ad-b9ed-62e451ba4e4f",
   "metadata": {},
   "outputs": [
    {
     "name": "stderr",
     "output_type": "stream",
     "text": [
      "/data/Genetics/analysis/R1681_OviSeq/Dermot/envs/dermo_python_env/lib/python3.10/site-packages/sklearn/linear_model/_coordinate_descent.py:681: ConvergenceWarning: Objective did not converge. You might want to increase the number of iterations. Duality gap: 1.048148399089314, tolerance: 0.49586348083026344\n",
      "  model = cd_fast.enet_coordinate_descent_gram(\n",
      "/data/Genetics/analysis/R1681_OviSeq/Dermot/envs/dermo_python_env/lib/python3.10/site-packages/sklearn/linear_model/_coordinate_descent.py:681: ConvergenceWarning: Objective did not converge. You might want to increase the number of iterations. Duality gap: 0.6320204856460805, tolerance: 0.49586348083026344\n",
      "  model = cd_fast.enet_coordinate_descent_gram(\n",
      "/data/Genetics/analysis/R1681_OviSeq/Dermot/envs/dermo_python_env/lib/python3.10/site-packages/sklearn/linear_model/_coordinate_descent.py:681: ConvergenceWarning: Objective did not converge. You might want to increase the number of iterations. Duality gap: 0.8331715034109948, tolerance: 0.49586348083026344\n",
      "  model = cd_fast.enet_coordinate_descent_gram(\n",
      "/data/Genetics/analysis/R1681_OviSeq/Dermot/envs/dermo_python_env/lib/python3.10/site-packages/sklearn/linear_model/_coordinate_descent.py:681: ConvergenceWarning: Objective did not converge. You might want to increase the number of iterations. Duality gap: 0.5081908346548971, tolerance: 0.49586348083026344\n",
      "  model = cd_fast.enet_coordinate_descent_gram(\n",
      "/data/Genetics/analysis/R1681_OviSeq/Dermot/envs/dermo_python_env/lib/python3.10/site-packages/sklearn/linear_model/_coordinate_descent.py:681: ConvergenceWarning: Objective did not converge. You might want to increase the number of iterations. Duality gap: 0.5777021907806557, tolerance: 0.49586348083026344\n",
      "  model = cd_fast.enet_coordinate_descent_gram(\n",
      "/data/Genetics/analysis/R1681_OviSeq/Dermot/envs/dermo_python_env/lib/python3.10/site-packages/sklearn/linear_model/_coordinate_descent.py:681: ConvergenceWarning: Objective did not converge. You might want to increase the number of iterations. Duality gap: 0.5658287802673385, tolerance: 0.49586348083026344\n",
      "  model = cd_fast.enet_coordinate_descent_gram(\n",
      "/data/Genetics/analysis/R1681_OviSeq/Dermot/envs/dermo_python_env/lib/python3.10/site-packages/sklearn/linear_model/_coordinate_descent.py:681: ConvergenceWarning: Objective did not converge. You might want to increase the number of iterations. Duality gap: 1.2470857401287958, tolerance: 0.49586348083026344\n",
      "  model = cd_fast.enet_coordinate_descent_gram(\n",
      "/data/Genetics/analysis/R1681_OviSeq/Dermot/envs/dermo_python_env/lib/python3.10/site-packages/sklearn/linear_model/_coordinate_descent.py:681: ConvergenceWarning: Objective did not converge. You might want to increase the number of iterations. Duality gap: 2.2304594879879005, tolerance: 0.49586348083026344\n",
      "  model = cd_fast.enet_coordinate_descent_gram(\n",
      "/data/Genetics/analysis/R1681_OviSeq/Dermot/envs/dermo_python_env/lib/python3.10/site-packages/sklearn/linear_model/_coordinate_descent.py:681: ConvergenceWarning: Objective did not converge. You might want to increase the number of iterations. Duality gap: 1.4710420288679416, tolerance: 0.5025287969464816\n",
      "  model = cd_fast.enet_coordinate_descent_gram(\n",
      "/data/Genetics/analysis/R1681_OviSeq/Dermot/envs/dermo_python_env/lib/python3.10/site-packages/sklearn/linear_model/_coordinate_descent.py:681: ConvergenceWarning: Objective did not converge. You might want to increase the number of iterations. Duality gap: 0.9757465833122296, tolerance: 0.5025287969464816\n",
      "  model = cd_fast.enet_coordinate_descent_gram(\n",
      "/data/Genetics/analysis/R1681_OviSeq/Dermot/envs/dermo_python_env/lib/python3.10/site-packages/sklearn/linear_model/_coordinate_descent.py:681: ConvergenceWarning: Objective did not converge. You might want to increase the number of iterations. Duality gap: 1.3211258093874676, tolerance: 0.5025287969464816\n",
      "  model = cd_fast.enet_coordinate_descent_gram(\n",
      "/data/Genetics/analysis/R1681_OviSeq/Dermot/envs/dermo_python_env/lib/python3.10/site-packages/sklearn/linear_model/_coordinate_descent.py:681: ConvergenceWarning: Objective did not converge. You might want to increase the number of iterations. Duality gap: 1.0775879622769935, tolerance: 0.5025287969464816\n",
      "  model = cd_fast.enet_coordinate_descent_gram(\n",
      "/data/Genetics/analysis/R1681_OviSeq/Dermot/envs/dermo_python_env/lib/python3.10/site-packages/sklearn/linear_model/_coordinate_descent.py:681: ConvergenceWarning: Objective did not converge. You might want to increase the number of iterations. Duality gap: 1.6815161866120434, tolerance: 0.5025287969464816\n",
      "  model = cd_fast.enet_coordinate_descent_gram(\n"
     ]
    },
    {
     "name": "stdout",
     "output_type": "stream",
     "text": [
      "R² score: 0.2793915064436069\n",
      "MSE: 12.395989246696349\n"
     ]
    },
    {
     "name": "stderr",
     "output_type": "stream",
     "text": [
      "/data/Genetics/analysis/R1681_OviSeq/Dermot/envs/dermo_python_env/lib/python3.10/site-packages/sklearn/linear_model/_coordinate_descent.py:681: ConvergenceWarning: Objective did not converge. You might want to increase the number of iterations. Duality gap: 0.8569999273440772, tolerance: 0.4657617405023897\n",
      "  model = cd_fast.enet_coordinate_descent_gram(\n"
     ]
    }
   ],
   "source": [
    "from sklearn.linear_model import LassoCV\n",
    "from sklearn.metrics import mean_squared_error, r2_score\n",
    "\n",
    "lasso = LassoCV(cv=5, random_state=42).fit(X_train_scaled, y_train)\n",
    "y_pred = lasso.predict(X_test_scaled)\n",
    "\n",
    "print(\"R² score:\", r2_score(y_test, y_pred))\n",
    "print(\"MSE:\", mean_squared_error(y_test, y_pred))\n"
   ]
  },
  {
   "cell_type": "code",
   "execution_count": 19,
   "id": "1a20b583-bfb4-4558-b395-16f34108194a",
   "metadata": {},
   "outputs": [
    {
     "name": "stdout",
     "output_type": "stream",
     "text": [
      "51 genera retained\n"
     ]
    }
   ],
   "source": [
    "selected = np.array(micro_cols)[lasso.coef_ != 0]\n",
    "print(len(selected), \"genera retained\")\n"
   ]
  },
  {
   "cell_type": "code",
   "execution_count": null,
   "id": "2b80337d-907f-4856-9515-32f22057de55",
   "metadata": {},
   "outputs": [],
   "source": []
  }
 ],
 "metadata": {
  "kernelspec": {
   "display_name": "Python (dermo_python_env)",
   "language": "python",
   "name": "dermo_python_env"
  },
  "language_info": {
   "codemirror_mode": {
    "name": "ipython",
    "version": 3
   },
   "file_extension": ".py",
   "mimetype": "text/x-python",
   "name": "python",
   "nbconvert_exporter": "python",
   "pygments_lexer": "ipython3",
   "version": "3.10.16"
  }
 },
 "nbformat": 4,
 "nbformat_minor": 5
}
